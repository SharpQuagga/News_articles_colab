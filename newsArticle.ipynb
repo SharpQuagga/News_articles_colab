{
 "cells": [
  {
   "cell_type": "code",
   "execution_count": null,
   "metadata": {
    "colab": {},
    "colab_type": "code",
    "id": "zwKXXiBV2xCQ"
   },
   "outputs": [],
   "source": [
    "import pandas as pd"
   ]
  },
  {
   "cell_type": "code",
   "execution_count": null,
   "metadata": {
    "colab": {},
    "colab_type": "code",
    "id": "668KisPH2xCh"
   },
   "outputs": [],
   "source": [
    "article = pd.read_csv(\"news_articles.csv\")\n",
    "article = article['Content']"
   ]
  },
  {
   "cell_type": "code",
   "execution_count": null,
   "metadata": {
    "colab": {
     "base_uri": "https://localhost:8080/",
     "height": 54
    },
    "colab_type": "code",
    "id": "zZJ2Q0gn2xCr",
    "outputId": "203d84f2-bd45-4ab5-c281-62d6d8022486"
   },
   "outputs": [
    {
     "data": {
      "text/plain": [
       "'At least 14 people died and 17 others were injured after a bus travelling from Hyderabad to Kakinada plunged into a canal from a bridge on the accident-prone stretch of the Hyderabad-Khammam highway in Telangana early Monday morning \\nThe injured were admitted to the Government General Hospital for treatment \\n\\n\\nSeven people died on the spot and the others succumbed to injuries while undergoing treatment at the hospital  The passengers belonged to the East and West Godavari districts of Andhra Pradesh \\nThe bus  owned by private operator Yatra Genie  commenced its journey from Hyderabad at 11 30 p m  on Sunday  Khammam Superintendent of Police Shah Nawaz Khan was quoted by the Hindustan Times as saying \\nThe accident happened around 2 30 a m  when the driver slammed the brakes to avoid a collision with another vehicle coming from the opposite direction on a bridge over Nagarjunsagar project left canal at Nayankangudem village in Khammam district  the daily reported  The bus hit the parapet wall of the bridge and nose-dived into the canal \\nThe driver of the bus was apparently driving at high speed due to which he lost control of the vehicle  following which it fell into the canal under Kusumanchi mandal  the Deccan Herald reported \\nTravellers immediately informed the police who rushed to the accident scene and began the rescue operations '"
      ]
     },
     "execution_count": 8,
     "metadata": {
      "tags": []
     },
     "output_type": "execute_result"
    }
   ],
   "source": [
    "article[0]"
   ]
  },
  {
   "cell_type": "code",
   "execution_count": null,
   "metadata": {
    "colab": {},
    "colab_type": "code",
    "id": "zFvFgBoW2xC2"
   },
   "outputs": [],
   "source": [
    "import re\n",
    "def decontracted(phrase):\n",
    "# specific\n",
    "    phrase = re.sub(r\"won’t\", \"will not\", phrase)\n",
    "    phrase = re.sub(r\"can’t\", \"can not\", phrase)\n",
    "\n",
    "    # general\n",
    "    phrase = re.sub(r\"n\\'t\", \" not\", phrase)\n",
    "    phrase = re.sub(r\"\\'re\", \" are\", phrase)\n",
    "    phrase = re.sub(r\"\\'s\", \" is\", phrase)\n",
    "    phrase = re.sub(r\"\\'d\", \" would\", phrase)\n",
    "    phrase = re.sub(r\"\\'ll\", \" will\", phrase)\n",
    "    phrase = re.sub(r\"\\'t\", \" not\", phrase)\n",
    "    phrase = re.sub(r\"\\'ve\", \" have\", phrase)\n",
    "    phrase = re.sub(r\"\\'m\", \" am\", phrase)\n",
    "    return phrase"
   ]
  },
  {
   "cell_type": "code",
   "execution_count": null,
   "metadata": {
    "colab": {},
    "colab_type": "code",
    "id": "keaGVaBF2xC8"
   },
   "outputs": [],
   "source": [
    "for line in article:\n",
    "    decontracted(line)"
   ]
  },
  {
   "cell_type": "code",
   "execution_count": null,
   "metadata": {
    "colab": {
     "base_uri": "https://localhost:8080/",
     "height": 1000
    },
    "colab_type": "code",
    "id": "uz8XfjpQ2xDC",
    "outputId": "f5582a2e-71ab-4cef-876f-76aba74666b9"
   },
   "outputs": [
    {
     "data": {
      "text/plain": [
       "0       At least 14 people died and 17 others were inj...\n",
       "1       TV actress Pratibha Tiwari  who is best known ...\n",
       "2       The United States and South Korea began a join...\n",
       "3       The relentless drive by Bengaluru s  Bangalore...\n",
       "4       Punjab Gau Raksha Dal chief Satish Kumar and h...\n",
       "5       Philippines police on Monday said that the num...\n",
       "6       Infosys shares could fall sharply on Tuesday w...\n",
       "7       Prime Minister Narendra Modi has expressed dee...\n",
       "8       A school bus in the town of Bishnah in Jammu s...\n",
       "9       A school bus carrying around 50 children fell ...\n",
       "10      At least eight schoolchildren were killed when...\n",
       "11      UPDATE  2 35 p m  IST   The death toll has ris...\n",
       "12      Two students died while over 40 were electrocu...\n",
       "13      Twelve people died and at least eight were inj...\n",
       "14      The death toll in the bridge collapse near Mah...\n",
       "15      4 30 p m  IST   Maharashtra Chief Minister Dev...\n",
       "16      At least four more bodies were recovered from ...\n",
       "17      A British-era bridge in Maharashtra collapsed ...\n",
       "18      At least four people were killed and one injur...\n",
       "19      At least seven children died on Monday after a...\n",
       "20      In a tragic incident on Sunday  as many as eig...\n",
       "21      Five people died and 10 were injured after a t...\n",
       "22      At least 26 people  mostly tourists from China...\n",
       "23      A BMW car driven by a Rajasthan MLA s son  sus...\n",
       "24      A fire broke out at Mantralaya  the Maharashtr...\n",
       "25      One person died and five others were injured a...\n",
       "26      A forensic report by Central Forensic Science ...\n",
       "27      Anton Yelchin  who was best known for portrayi...\n",
       "28      Actress Pranitha Subhash met with an accident ...\n",
       "29      Update  11 26 a m  IST   The police said the d...\n",
       "                              ...                        \n",
       "4801    India s rank in the  Doing Business Report 135...\n",
       "4802    The Chinese government bought shares worth 900...\n",
       "4803    Even as the global stock markets tumbled to mu...\n",
       "4804    Reports of Bollywood superstar Amitabh Bachcha...\n",
       "4805    Global rating agency Moody s Investors Service...\n",
       "4806    Earning upgrades would propel the S P BSE Sens...\n",
       "4807    The Chinese stock markets have fallen sharply ...\n",
       "4808    Although the domestic stock markets have witne...\n",
       "4809    Things seem to be getting worse for precious m...\n",
       "4810    Gold prices are estimated to decline further t...\n",
       "4811    Domestic jewellery maker Rajesh Exports Ltd  R...\n",
       "4812    Ahead of its official launch in India  ASUS ar...\n",
       "4813    If you are out shopping for a budget smartphon...\n",
       "4814    The much-hyped Asus Zenfone 2 is all set to hi...\n",
       "4815    Even today  personal computers  PCs  are prefe...\n",
       "4816    In the Indian smartphone market  Motorola s Mo...\n",
       "4817    IT security company ESET has recently released...\n",
       "4818    The GSM Association or GSMA association of mob...\n",
       "4819    Samsung has launched their latest flagship Sam...\n",
       "4820    The 3D printing technology has undergone lots ...\n",
       "4821    Known as the Mecca of smartphones lovers  the ...\n",
       "4822    Samsung has finally launched its much-awaited ...\n",
       "4823    HTC has launched its latest flagship smartphon...\n",
       "4824    Smartphone leader Samsung on Monday  23 March ...\n",
       "4825    Apple s iPhone 6 and iPhone 6 Plus have been d...\n",
       "4826    Apple won its share of fame when it launched i...\n",
       "4827    HTC launched One M9 at MWC  2015 few days back...\n",
       "4828    Samsung s critically-acclaimed Galaxy S6 and G...\n",
       "4829    Google has finally released the Android 5 1 Lo...\n",
       "4830    Apple is now the largest smartphone company in...\n",
       "Name: Content, Length: 4831, dtype: object"
      ]
     },
     "execution_count": 11,
     "metadata": {
      "tags": []
     },
     "output_type": "execute_result"
    }
   ],
   "source": [
    "article.apply(decontracted)"
   ]
  },
  {
   "cell_type": "code",
   "execution_count": null,
   "metadata": {
    "colab": {
     "base_uri": "https://localhost:8080/",
     "height": 54
    },
    "colab_type": "code",
    "id": "CG8dmKz52xDI",
    "outputId": "c5feca85-946f-42cf-b4d9-f96426ad38f9"
   },
   "outputs": [
    {
     "data": {
      "text/plain": [
       "'At least 14 people died and 17 others were injured after a bus travelling from Hyderabad to Kakinada plunged into a canal from a bridge on the accident-prone stretch of the Hyderabad-Khammam highway in Telangana early Monday morning \\nThe injured were admitted to the Government General Hospital for treatment \\n\\n\\nSeven people died on the spot and the others succumbed to injuries while undergoing treatment at the hospital  The passengers belonged to the East and West Godavari districts of Andhra Pradesh \\nThe bus  owned by private operator Yatra Genie  commenced its journey from Hyderabad at 11 30 p m  on Sunday  Khammam Superintendent of Police Shah Nawaz Khan was quoted by the Hindustan Times as saying \\nThe accident happened around 2 30 a m  when the driver slammed the brakes to avoid a collision with another vehicle coming from the opposite direction on a bridge over Nagarjunsagar project left canal at Nayankangudem village in Khammam district  the daily reported  The bus hit the parapet wall of the bridge and nose-dived into the canal \\nThe driver of the bus was apparently driving at high speed due to which he lost control of the vehicle  following which it fell into the canal under Kusumanchi mandal  the Deccan Herald reported \\nTravellers immediately informed the police who rushed to the accident scene and began the rescue operations '"
      ]
     },
     "execution_count": 12,
     "metadata": {
      "tags": []
     },
     "output_type": "execute_result"
    }
   ],
   "source": [
    "article[0]"
   ]
  },
  {
   "cell_type": "code",
   "execution_count": null,
   "metadata": {
    "colab": {},
    "colab_type": "code",
    "id": "-y3K-6fR2xDN"
   },
   "outputs": [],
   "source": [
    "def stripunc(X):\n",
    "    return re.sub('[^A-Za-z]+', ' ', str(X), flags=re.MULTILINE|re.DOTALL)"
   ]
  },
  {
   "cell_type": "code",
   "execution_count": null,
   "metadata": {
    "colab": {
     "base_uri": "https://localhost:8080/",
     "height": 54
    },
    "colab_type": "code",
    "id": "0DBiYYEV2xDU",
    "outputId": "c9c7003c-4538-4058-9857-14c0a3410b9f"
   },
   "outputs": [
    {
     "data": {
      "text/plain": [
       "'TV actress Pratibha Tiwari who is best known for her role in Saath Nibhana Saathiya was molested by a stranger on a busy road in Mumbai It has been reported that Pratibha was waiting for a colleague along with her hairdresser when a drunk man came and molested the actress The incident happened at p m However the Saath Nibhana Saathiya fought back and dragged the accused to a nearby police station She has filed an FIR against the alleged molester Pratibha also expressed shock at anyone daring to misbehave with a girl It is surprising that such an incident could occur on a busy road at pm It was shocking but a revelation too I have learnt that women are scared to lodge a complaint in such cases but I would urge them to fight it out she told the Times of India The actress came to limelight with a show titled Tujhse Naraz Nahi Zindagi and had done a number of commercials She plays the character of Navya which has a negative shade in Saath Nibhana Saathiya http www ibtimes co in pratibha tiwari molested busy road saath nibhana saathiya actress drags accused police station Infosys denies reports of layoffs says only underperformers asked to leave'"
      ]
     },
     "execution_count": 14,
     "metadata": {
      "tags": []
     },
     "output_type": "execute_result"
    }
   ],
   "source": [
    "articles = article.apply(stripunc)\n",
    "articles[1]"
   ]
  },
  {
   "cell_type": "code",
   "execution_count": null,
   "metadata": {
    "colab": {
     "base_uri": "https://localhost:8080/",
     "height": 34
    },
    "colab_type": "code",
    "id": "zhXTye6e2xDZ",
    "outputId": "2ed6da2c-3675-4bb8-eb44-0946d996c03a"
   },
   "outputs": [
    {
     "data": {
      "text/plain": [
       "pandas.core.series.Series"
      ]
     },
     "execution_count": 15,
     "metadata": {
      "tags": []
     },
     "output_type": "execute_result"
    }
   ],
   "source": [
    "type(articles)"
   ]
  },
  {
   "cell_type": "code",
   "execution_count": null,
   "metadata": {
    "colab": {
     "base_uri": "https://localhost:8080/",
     "height": 68
    },
    "colab_type": "code",
    "id": "CoAOAULA2xDg",
    "outputId": "8ebfda1f-0930-4d52-96af-cd9874e2271e"
   },
   "outputs": [
    {
     "name": "stdout",
     "output_type": "stream",
     "text": [
      "[nltk_data] Downloading package wordnet to /root/nltk_data...\n",
      "[nltk_data]   Unzipping corpora/wordnet.zip.\n"
     ]
    },
    {
     "data": {
      "text/plain": [
       "True"
      ]
     },
     "execution_count": 16,
     "metadata": {
      "tags": []
     },
     "output_type": "execute_result"
    }
   ],
   "source": [
    "# articles = articles.str.split(\" \")\n",
    "# articles\n",
    "import nltk\n",
    "nltk.download('wordnet')"
   ]
  },
  {
   "cell_type": "code",
   "execution_count": null,
   "metadata": {
    "colab": {
     "base_uri": "https://localhost:8080/",
     "height": 1000
    },
    "colab_type": "code",
    "id": "HmpHlvBL2xDm",
    "outputId": "96325e2c-0857-43fb-82c0-25f03c3edff3"
   },
   "outputs": [
    {
     "data": {
      "text/plain": [
       "0       At least people die and others be injure after...\n",
       "1       TV actress Pratibha Tiwari who be best know fo...\n",
       "2       The United States and South Korea begin a join...\n",
       "3       The relentless drive by Bengaluru s Bangalore ...\n",
       "4       Punjab Gau Raksha Dal chief Satish Kumar and h...\n",
       "5       Philippines police on Monday say that the numb...\n",
       "6       Infosys share could fall sharply on Tuesday wh...\n",
       "7       Prime Minister Narendra Modi have express deep...\n",
       "8       A school bus in the town of Bishnah in Jammu s...\n",
       "9       A school bus carry around children fell into a...\n",
       "10      At least eight schoolchildren be kill when an ...\n",
       "11      UPDATE p m IST The death toll have rise to aft...\n",
       "12      Two students die while over be electrocute on ...\n",
       "13      Twelve people die and at least eight be injure...\n",
       "14      The death toll in the bridge collapse near Mah...\n",
       "15       p m IST Maharashtra Chief Minister Devendra F...\n",
       "16      At least four more body be recover from the di...\n",
       "17      A British era bridge in Maharashtra collapse o...\n",
       "18      At least four people be kill and one injure in...\n",
       "19      At least seven children die on Monday after a ...\n",
       "20      In a tragic incident on Sunday as many as eigh...\n",
       "21      Five people die and be injure after a truck co...\n",
       "22      At least people mostly tourists from China die...\n",
       "23      A BMW car drive by a Rajasthan MLA s son suspe...\n",
       "24      A fire break out at Mantralaya the Maharashtra...\n",
       "25      One person die and five others be injure after...\n",
       "26      A forensic report by Central Forensic Science ...\n",
       "27      Anton Yelchin who be best know for portray the...\n",
       "28      Actress Pranitha Subhash meet with an accident...\n",
       "29      Update a m IST The police say the driver lose ...\n",
       "                              ...                        \n",
       "4801           India s rank in the Doing Business Report \n",
       "4802    The Chinese government buy share worth billion...\n",
       "4803    Even as the global stock market tumble to mult...\n",
       "4804    Reports of Bollywood superstar Amitabh Bachcha...\n",
       "4805    Global rat agency Moody s Investors Service ha...\n",
       "4806    Earning upgrade would propel the S P BSE Sense...\n",
       "4807    The Chinese stock market have fall sharply in ...\n",
       "4808    Although the domestic stock market have witnes...\n",
       "4809    Things seem to be get worse for precious metal...\n",
       "4810    Gold price be estimate to decline further to R...\n",
       "4811    Domestic jewellery maker Rajesh Exports Ltd RE...\n",
       "4812    Ahead of its official launch in India ASUS arr...\n",
       "4813    If you be out shop for a budget smartphone tha...\n",
       "4814    The much hype Asus Zenfone be all set to hit I...\n",
       "4815    Even today personal computers PCs be prefer de...\n",
       "4816    In the Indian smartphone market Motorola s Mot...\n",
       "4817    IT security company ESET have recently release...\n",
       "4818    The GSM Association or GSMA association of mob...\n",
       "4819    Samsung have launch their latest flagship Sams...\n",
       "4820    The D print technology have undergo lot of inn...\n",
       "4821    Known as the Mecca of smartphones lovers the M...\n",
       "4822    Samsung have finally launch its much await fla...\n",
       "4823    HTC have launch its latest flagship smartphone...\n",
       "4824    Smartphone leader Samsung on Monday March offi...\n",
       "4825    Apple s iPhone and iPhone Plus have be dominat...\n",
       "4826    Apple win its share of fame when it launch iPh...\n",
       "4827    HTC launch One M at MWC few days back Unlike S...\n",
       "4828    Samsung s critically acclaim Galaxy S and Gala...\n",
       "4829    Google have finally release the Android Lollip...\n",
       "4830    Apple be now the largest smartphone company in...\n",
       "Name: Content, Length: 4831, dtype: object"
      ]
     },
     "execution_count": 17,
     "metadata": {
      "tags": []
     },
     "output_type": "execute_result"
    }
   ],
   "source": [
    "from nltk.stem import WordNetLemmatizer\n",
    "lemmatizer = WordNetLemmatizer()\n",
    "\n",
    "articles.apply(lambda x : \" \".join([lemmatizer.lemmatize(word, pos=\"v\") for word in x.split(\" \")]))\n",
    "# for line in articles\n",
    "#     line = \" \".join(lemmatizer.lemmatize(line.split(\" \"),pos='v'))\n",
    "# articles[1]"
   ]
  },
  {
   "cell_type": "markdown",
   "metadata": {
    "colab_type": "text",
    "id": "JtwSY7iW2xDr"
   },
   "source": [
    "## TF-IDF scratch"
   ]
  },
  {
   "cell_type": "code",
   "execution_count": null,
   "metadata": {
    "colab": {},
    "colab_type": "code",
    "id": "_GfOIouF2xDt"
   },
   "outputs": [],
   "source": [
    "joexxfkjdsfddfdsdaasdadadasdaddsfodlllweeewassdfsdfsfsdfsfewfjiekrn,nnfffddddddddddddddd# articles[0] = articles[0].split(\" \")\n",
    "# articles[0]"
   ]
  },
  {
   "cell_type": "code",
   "execution_count": null,
   "metadata": {
    "colab": {},
    "colab_type": "code",
    "id": "kLWbkOM_2xDz"
   },
   "outputs": [],
   "source": [
    "bog = []\n",
    "len(bog)\n",
    "for i in range(0,4831):\n",
    "     #bog[i] = (articles[i].split(\" \"))\n",
    "    bog.append(articles[i].split(\" \"))\n"
   ]
  },
  {
   "cell_type": "code",
   "execution_count": null,
   "metadata": {
    "colab": {},
    "colab_type": "code",
    "id": "RPbYgdri2xD5",
    "outputId": "4ec9a617-c265-4e07-d4f6-7d1ff32460eb"
   },
   "outputs": [
    {
     "data": {
      "text/plain": [
       "4831"
      ]
     },
     "execution_count": 93,
     "metadata": {
      "tags": []
     },
     "output_type": "execute_result"
    }
   ],
   "source": [
    "len(bog)"
   ]
  },
  {
   "cell_type": "code",
   "execution_count": null,
   "metadata": {
    "colab": {},
    "colab_type": "code",
    "id": "BVZdznbG2xD_",
    "outputId": "7e1f5ff1-9887-4439-b573-7351244e31a7"
   },
   "outputs": [
    {
     "data": {
      "text/html": [
       "<div>\n",
       "<style scoped>\n",
       "    .dataframe tbody tr th:only-of-type {\n",
       "        vertical-align: middle;\n",
       "    }\n",
       "\n",
       "    .dataframe tbody tr th {\n",
       "        vertical-align: top;\n",
       "    }\n",
       "\n",
       "    .dataframe thead th {\n",
       "        text-align: right;\n",
       "    }\n",
       "</style>\n",
       "<table border=\"1\" class=\"dataframe\">\n",
       "  <thead>\n",
       "    <tr style=\"text-align: right;\">\n",
       "      <th></th>\n",
       "      <th>Articles</th>\n",
       "      <th>bog</th>\n",
       "    </tr>\n",
       "  </thead>\n",
       "  <tbody>\n",
       "    <tr>\n",
       "      <th>0</th>\n",
       "      <td>At least people died and others were injured a...</td>\n",
       "      <td>[At, least, people, died, and, others, were, i...</td>\n",
       "    </tr>\n",
       "    <tr>\n",
       "      <th>1</th>\n",
       "      <td>TV actress Pratibha Tiwari who is best known f...</td>\n",
       "      <td>[TV, actress, Pratibha, Tiwari, who, is, best,...</td>\n",
       "    </tr>\n",
       "    <tr>\n",
       "      <th>2</th>\n",
       "      <td>The United States and South Korea began a join...</td>\n",
       "      <td>[The, United, States, and, South, Korea, began...</td>\n",
       "    </tr>\n",
       "    <tr>\n",
       "      <th>3</th>\n",
       "      <td>The relentless drive by Bengaluru s Bangalore ...</td>\n",
       "      <td>[The, relentless, drive, by, Bengaluru, s, Ban...</td>\n",
       "    </tr>\n",
       "    <tr>\n",
       "      <th>4</th>\n",
       "      <td>Punjab Gau Raksha Dal chief Satish Kumar and h...</td>\n",
       "      <td>[Punjab, Gau, Raksha, Dal, chief, Satish, Kuma...</td>\n",
       "    </tr>\n",
       "    <tr>\n",
       "      <th>5</th>\n",
       "      <td>Philippines police on Monday said that the num...</td>\n",
       "      <td>[Philippines, police, on, Monday, said, that, ...</td>\n",
       "    </tr>\n",
       "    <tr>\n",
       "      <th>6</th>\n",
       "      <td>Infosys shares could fall sharply on Tuesday w...</td>\n",
       "      <td>[Infosys, shares, could, fall, sharply, on, Tu...</td>\n",
       "    </tr>\n",
       "    <tr>\n",
       "      <th>7</th>\n",
       "      <td>Prime Minister Narendra Modi has expressed dee...</td>\n",
       "      <td>[Prime, Minister, Narendra, Modi, has, express...</td>\n",
       "    </tr>\n",
       "    <tr>\n",
       "      <th>8</th>\n",
       "      <td>A school bus in the town of Bishnah in Jammu s...</td>\n",
       "      <td>[A, school, bus, in, the, town, of, Bishnah, i...</td>\n",
       "    </tr>\n",
       "    <tr>\n",
       "      <th>9</th>\n",
       "      <td>A school bus carrying around children fell int...</td>\n",
       "      <td>[A, school, bus, carrying, around, children, f...</td>\n",
       "    </tr>\n",
       "    <tr>\n",
       "      <th>10</th>\n",
       "      <td>At least eight schoolchildren were killed when...</td>\n",
       "      <td>[At, least, eight, schoolchildren, were, kille...</td>\n",
       "    </tr>\n",
       "    <tr>\n",
       "      <th>11</th>\n",
       "      <td>UPDATE p m IST The death toll has risen to aft...</td>\n",
       "      <td>[UPDATE, p, m, IST, The, death, toll, has, ris...</td>\n",
       "    </tr>\n",
       "    <tr>\n",
       "      <th>12</th>\n",
       "      <td>Two students died while over were electrocuted...</td>\n",
       "      <td>[Two, students, died, while, over, were, elect...</td>\n",
       "    </tr>\n",
       "    <tr>\n",
       "      <th>13</th>\n",
       "      <td>Twelve people died and at least eight were inj...</td>\n",
       "      <td>[Twelve, people, died, and, at, least, eight, ...</td>\n",
       "    </tr>\n",
       "    <tr>\n",
       "      <th>14</th>\n",
       "      <td>The death toll in the bridge collapse near Mah...</td>\n",
       "      <td>[The, death, toll, in, the, bridge, collapse, ...</td>\n",
       "    </tr>\n",
       "    <tr>\n",
       "      <th>15</th>\n",
       "      <td>p m IST Maharashtra Chief Minister Devendra F...</td>\n",
       "      <td>[, p, m, IST, Maharashtra, Chief, Minister, De...</td>\n",
       "    </tr>\n",
       "    <tr>\n",
       "      <th>16</th>\n",
       "      <td>At least four more bodies were recovered from ...</td>\n",
       "      <td>[At, least, four, more, bodies, were, recovere...</td>\n",
       "    </tr>\n",
       "    <tr>\n",
       "      <th>17</th>\n",
       "      <td>A British era bridge in Maharashtra collapsed ...</td>\n",
       "      <td>[A, British, era, bridge, in, Maharashtra, col...</td>\n",
       "    </tr>\n",
       "    <tr>\n",
       "      <th>18</th>\n",
       "      <td>At least four people were killed and one injur...</td>\n",
       "      <td>[At, least, four, people, were, killed, and, o...</td>\n",
       "    </tr>\n",
       "    <tr>\n",
       "      <th>19</th>\n",
       "      <td>At least seven children died on Monday after a...</td>\n",
       "      <td>[At, least, seven, children, died, on, Monday,...</td>\n",
       "    </tr>\n",
       "    <tr>\n",
       "      <th>20</th>\n",
       "      <td>In a tragic incident on Sunday as many as eigh...</td>\n",
       "      <td>[In, a, tragic, incident, on, Sunday, as, many...</td>\n",
       "    </tr>\n",
       "    <tr>\n",
       "      <th>21</th>\n",
       "      <td>Five people died and were injured after a truc...</td>\n",
       "      <td>[Five, people, died, and, were, injured, after...</td>\n",
       "    </tr>\n",
       "    <tr>\n",
       "      <th>22</th>\n",
       "      <td>At least people mostly tourists from China die...</td>\n",
       "      <td>[At, least, people, mostly, tourists, from, Ch...</td>\n",
       "    </tr>\n",
       "    <tr>\n",
       "      <th>23</th>\n",
       "      <td>A BMW car driven by a Rajasthan MLA s son susp...</td>\n",
       "      <td>[A, BMW, car, driven, by, a, Rajasthan, MLA, s...</td>\n",
       "    </tr>\n",
       "    <tr>\n",
       "      <th>24</th>\n",
       "      <td>A fire broke out at Mantralaya the Maharashtra...</td>\n",
       "      <td>[A, fire, broke, out, at, Mantralaya, the, Mah...</td>\n",
       "    </tr>\n",
       "    <tr>\n",
       "      <th>25</th>\n",
       "      <td>One person died and five others were injured a...</td>\n",
       "      <td>[One, person, died, and, five, others, were, i...</td>\n",
       "    </tr>\n",
       "    <tr>\n",
       "      <th>26</th>\n",
       "      <td>A forensic report by Central Forensic Science ...</td>\n",
       "      <td>[A, forensic, report, by, Central, Forensic, S...</td>\n",
       "    </tr>\n",
       "    <tr>\n",
       "      <th>27</th>\n",
       "      <td>Anton Yelchin who was best known for portrayin...</td>\n",
       "      <td>[Anton, Yelchin, who, was, best, known, for, p...</td>\n",
       "    </tr>\n",
       "    <tr>\n",
       "      <th>28</th>\n",
       "      <td>Actress Pranitha Subhash met with an accident ...</td>\n",
       "      <td>[Actress, Pranitha, Subhash, met, with, an, ac...</td>\n",
       "    </tr>\n",
       "    <tr>\n",
       "      <th>29</th>\n",
       "      <td>Update a m IST The police said the driver lost...</td>\n",
       "      <td>[Update, a, m, IST, The, police, said, the, dr...</td>\n",
       "    </tr>\n",
       "    <tr>\n",
       "      <th>...</th>\n",
       "      <td>...</td>\n",
       "      <td>...</td>\n",
       "    </tr>\n",
       "    <tr>\n",
       "      <th>4801</th>\n",
       "      <td>India s rank in the Doing Business Report</td>\n",
       "      <td>[India, s, rank, in, the, Doing, Business, Rep...</td>\n",
       "    </tr>\n",
       "    <tr>\n",
       "      <th>4802</th>\n",
       "      <td>The Chinese government bought shares worth bil...</td>\n",
       "      <td>[The, Chinese, government, bought, shares, wor...</td>\n",
       "    </tr>\n",
       "    <tr>\n",
       "      <th>4803</th>\n",
       "      <td>Even as the global stock markets tumbled to mu...</td>\n",
       "      <td>[Even, as, the, global, stock, markets, tumble...</td>\n",
       "    </tr>\n",
       "    <tr>\n",
       "      <th>4804</th>\n",
       "      <td>Reports of Bollywood superstar Amitabh Bachcha...</td>\n",
       "      <td>[Reports, of, Bollywood, superstar, Amitabh, B...</td>\n",
       "    </tr>\n",
       "    <tr>\n",
       "      <th>4805</th>\n",
       "      <td>Global rating agency Moody s Investors Service...</td>\n",
       "      <td>[Global, rating, agency, Moody, s, Investors, ...</td>\n",
       "    </tr>\n",
       "    <tr>\n",
       "      <th>4806</th>\n",
       "      <td>Earning upgrades would propel the S P BSE Sens...</td>\n",
       "      <td>[Earning, upgrades, would, propel, the, S, P, ...</td>\n",
       "    </tr>\n",
       "    <tr>\n",
       "      <th>4807</th>\n",
       "      <td>The Chinese stock markets have fallen sharply ...</td>\n",
       "      <td>[The, Chinese, stock, markets, have, fallen, s...</td>\n",
       "    </tr>\n",
       "    <tr>\n",
       "      <th>4808</th>\n",
       "      <td>Although the domestic stock markets have witne...</td>\n",
       "      <td>[Although, the, domestic, stock, markets, have...</td>\n",
       "    </tr>\n",
       "    <tr>\n",
       "      <th>4809</th>\n",
       "      <td>Things seem to be getting worse for precious m...</td>\n",
       "      <td>[Things, seem, to, be, getting, worse, for, pr...</td>\n",
       "    </tr>\n",
       "    <tr>\n",
       "      <th>4810</th>\n",
       "      <td>Gold prices are estimated to decline further t...</td>\n",
       "      <td>[Gold, prices, are, estimated, to, decline, fu...</td>\n",
       "    </tr>\n",
       "    <tr>\n",
       "      <th>4811</th>\n",
       "      <td>Domestic jewellery maker Rajesh Exports Ltd RE...</td>\n",
       "      <td>[Domestic, jewellery, maker, Rajesh, Exports, ...</td>\n",
       "    </tr>\n",
       "    <tr>\n",
       "      <th>4812</th>\n",
       "      <td>Ahead of its official launch in India ASUS arr...</td>\n",
       "      <td>[Ahead, of, its, official, launch, in, India, ...</td>\n",
       "    </tr>\n",
       "    <tr>\n",
       "      <th>4813</th>\n",
       "      <td>If you are out shopping for a budget smartphon...</td>\n",
       "      <td>[If, you, are, out, shopping, for, a, budget, ...</td>\n",
       "    </tr>\n",
       "    <tr>\n",
       "      <th>4814</th>\n",
       "      <td>The much hyped Asus Zenfone is all set to hit ...</td>\n",
       "      <td>[The, much, hyped, Asus, Zenfone, is, all, set...</td>\n",
       "    </tr>\n",
       "    <tr>\n",
       "      <th>4815</th>\n",
       "      <td>Even today personal computers PCs are preferre...</td>\n",
       "      <td>[Even, today, personal, computers, PCs, are, p...</td>\n",
       "    </tr>\n",
       "    <tr>\n",
       "      <th>4816</th>\n",
       "      <td>In the Indian smartphone market Motorola s Mot...</td>\n",
       "      <td>[In, the, Indian, smartphone, market, Motorola...</td>\n",
       "    </tr>\n",
       "    <tr>\n",
       "      <th>4817</th>\n",
       "      <td>IT security company ESET has recently released...</td>\n",
       "      <td>[IT, security, company, ESET, has, recently, r...</td>\n",
       "    </tr>\n",
       "    <tr>\n",
       "      <th>4818</th>\n",
       "      <td>The GSM Association or GSMA association of mob...</td>\n",
       "      <td>[The, GSM, Association, or, GSMA, association,...</td>\n",
       "    </tr>\n",
       "    <tr>\n",
       "      <th>4819</th>\n",
       "      <td>Samsung has launched their latest flagship Sam...</td>\n",
       "      <td>[Samsung, has, launched, their, latest, flagsh...</td>\n",
       "    </tr>\n",
       "    <tr>\n",
       "      <th>4820</th>\n",
       "      <td>The D printing technology has undergone lots o...</td>\n",
       "      <td>[The, D, printing, technology, has, undergone,...</td>\n",
       "    </tr>\n",
       "    <tr>\n",
       "      <th>4821</th>\n",
       "      <td>Known as the Mecca of smartphones lovers the M...</td>\n",
       "      <td>[Known, as, the, Mecca, of, smartphones, lover...</td>\n",
       "    </tr>\n",
       "    <tr>\n",
       "      <th>4822</th>\n",
       "      <td>Samsung has finally launched its much awaited ...</td>\n",
       "      <td>[Samsung, has, finally, launched, its, much, a...</td>\n",
       "    </tr>\n",
       "    <tr>\n",
       "      <th>4823</th>\n",
       "      <td>HTC has launched its latest flagship smartphon...</td>\n",
       "      <td>[HTC, has, launched, its, latest, flagship, sm...</td>\n",
       "    </tr>\n",
       "    <tr>\n",
       "      <th>4824</th>\n",
       "      <td>Smartphone leader Samsung on Monday March offi...</td>\n",
       "      <td>[Smartphone, leader, Samsung, on, Monday, Marc...</td>\n",
       "    </tr>\n",
       "    <tr>\n",
       "      <th>4825</th>\n",
       "      <td>Apple s iPhone and iPhone Plus have been domin...</td>\n",
       "      <td>[Apple, s, iPhone, and, iPhone, Plus, have, be...</td>\n",
       "    </tr>\n",
       "    <tr>\n",
       "      <th>4826</th>\n",
       "      <td>Apple won its share of fame when it launched i...</td>\n",
       "      <td>[Apple, won, its, share, of, fame, when, it, l...</td>\n",
       "    </tr>\n",
       "    <tr>\n",
       "      <th>4827</th>\n",
       "      <td>HTC launched One M at MWC few days back Unlike...</td>\n",
       "      <td>[HTC, launched, One, M, at, MWC, few, days, ba...</td>\n",
       "    </tr>\n",
       "    <tr>\n",
       "      <th>4828</th>\n",
       "      <td>Samsung s critically acclaimed Galaxy S and Ga...</td>\n",
       "      <td>[Samsung, s, critically, acclaimed, Galaxy, S,...</td>\n",
       "    </tr>\n",
       "    <tr>\n",
       "      <th>4829</th>\n",
       "      <td>Google has finally released the Android Lollip...</td>\n",
       "      <td>[Google, has, finally, released, the, Android,...</td>\n",
       "    </tr>\n",
       "    <tr>\n",
       "      <th>4830</th>\n",
       "      <td>Apple is now the largest smartphone company in...</td>\n",
       "      <td>[Apple, is, now, the, largest, smartphone, com...</td>\n",
       "    </tr>\n",
       "  </tbody>\n",
       "</table>\n",
       "<p>4831 rows × 2 columns</p>\n",
       "</div>"
      ],
      "text/plain": [
       "                                               Articles  \\\n",
       "0     At least people died and others were injured a...   \n",
       "1     TV actress Pratibha Tiwari who is best known f...   \n",
       "2     The United States and South Korea began a join...   \n",
       "3     The relentless drive by Bengaluru s Bangalore ...   \n",
       "4     Punjab Gau Raksha Dal chief Satish Kumar and h...   \n",
       "5     Philippines police on Monday said that the num...   \n",
       "6     Infosys shares could fall sharply on Tuesday w...   \n",
       "7     Prime Minister Narendra Modi has expressed dee...   \n",
       "8     A school bus in the town of Bishnah in Jammu s...   \n",
       "9     A school bus carrying around children fell int...   \n",
       "10    At least eight schoolchildren were killed when...   \n",
       "11    UPDATE p m IST The death toll has risen to aft...   \n",
       "12    Two students died while over were electrocuted...   \n",
       "13    Twelve people died and at least eight were inj...   \n",
       "14    The death toll in the bridge collapse near Mah...   \n",
       "15     p m IST Maharashtra Chief Minister Devendra F...   \n",
       "16    At least four more bodies were recovered from ...   \n",
       "17    A British era bridge in Maharashtra collapsed ...   \n",
       "18    At least four people were killed and one injur...   \n",
       "19    At least seven children died on Monday after a...   \n",
       "20    In a tragic incident on Sunday as many as eigh...   \n",
       "21    Five people died and were injured after a truc...   \n",
       "22    At least people mostly tourists from China die...   \n",
       "23    A BMW car driven by a Rajasthan MLA s son susp...   \n",
       "24    A fire broke out at Mantralaya the Maharashtra...   \n",
       "25    One person died and five others were injured a...   \n",
       "26    A forensic report by Central Forensic Science ...   \n",
       "27    Anton Yelchin who was best known for portrayin...   \n",
       "28    Actress Pranitha Subhash met with an accident ...   \n",
       "29    Update a m IST The police said the driver lost...   \n",
       "...                                                 ...   \n",
       "4801         India s rank in the Doing Business Report    \n",
       "4802  The Chinese government bought shares worth bil...   \n",
       "4803  Even as the global stock markets tumbled to mu...   \n",
       "4804  Reports of Bollywood superstar Amitabh Bachcha...   \n",
       "4805  Global rating agency Moody s Investors Service...   \n",
       "4806  Earning upgrades would propel the S P BSE Sens...   \n",
       "4807  The Chinese stock markets have fallen sharply ...   \n",
       "4808  Although the domestic stock markets have witne...   \n",
       "4809  Things seem to be getting worse for precious m...   \n",
       "4810  Gold prices are estimated to decline further t...   \n",
       "4811  Domestic jewellery maker Rajesh Exports Ltd RE...   \n",
       "4812  Ahead of its official launch in India ASUS arr...   \n",
       "4813  If you are out shopping for a budget smartphon...   \n",
       "4814  The much hyped Asus Zenfone is all set to hit ...   \n",
       "4815  Even today personal computers PCs are preferre...   \n",
       "4816  In the Indian smartphone market Motorola s Mot...   \n",
       "4817  IT security company ESET has recently released...   \n",
       "4818  The GSM Association or GSMA association of mob...   \n",
       "4819  Samsung has launched their latest flagship Sam...   \n",
       "4820  The D printing technology has undergone lots o...   \n",
       "4821  Known as the Mecca of smartphones lovers the M...   \n",
       "4822  Samsung has finally launched its much awaited ...   \n",
       "4823  HTC has launched its latest flagship smartphon...   \n",
       "4824  Smartphone leader Samsung on Monday March offi...   \n",
       "4825  Apple s iPhone and iPhone Plus have been domin...   \n",
       "4826  Apple won its share of fame when it launched i...   \n",
       "4827  HTC launched One M at MWC few days back Unlike...   \n",
       "4828  Samsung s critically acclaimed Galaxy S and Ga...   \n",
       "4829  Google has finally released the Android Lollip...   \n",
       "4830  Apple is now the largest smartphone company in...   \n",
       "\n",
       "                                                    bog  \n",
       "0     [At, least, people, died, and, others, were, i...  \n",
       "1     [TV, actress, Pratibha, Tiwari, who, is, best,...  \n",
       "2     [The, United, States, and, South, Korea, began...  \n",
       "3     [The, relentless, drive, by, Bengaluru, s, Ban...  \n",
       "4     [Punjab, Gau, Raksha, Dal, chief, Satish, Kuma...  \n",
       "5     [Philippines, police, on, Monday, said, that, ...  \n",
       "6     [Infosys, shares, could, fall, sharply, on, Tu...  \n",
       "7     [Prime, Minister, Narendra, Modi, has, express...  \n",
       "8     [A, school, bus, in, the, town, of, Bishnah, i...  \n",
       "9     [A, school, bus, carrying, around, children, f...  \n",
       "10    [At, least, eight, schoolchildren, were, kille...  \n",
       "11    [UPDATE, p, m, IST, The, death, toll, has, ris...  \n",
       "12    [Two, students, died, while, over, were, elect...  \n",
       "13    [Twelve, people, died, and, at, least, eight, ...  \n",
       "14    [The, death, toll, in, the, bridge, collapse, ...  \n",
       "15    [, p, m, IST, Maharashtra, Chief, Minister, De...  \n",
       "16    [At, least, four, more, bodies, were, recovere...  \n",
       "17    [A, British, era, bridge, in, Maharashtra, col...  \n",
       "18    [At, least, four, people, were, killed, and, o...  \n",
       "19    [At, least, seven, children, died, on, Monday,...  \n",
       "20    [In, a, tragic, incident, on, Sunday, as, many...  \n",
       "21    [Five, people, died, and, were, injured, after...  \n",
       "22    [At, least, people, mostly, tourists, from, Ch...  \n",
       "23    [A, BMW, car, driven, by, a, Rajasthan, MLA, s...  \n",
       "24    [A, fire, broke, out, at, Mantralaya, the, Mah...  \n",
       "25    [One, person, died, and, five, others, were, i...  \n",
       "26    [A, forensic, report, by, Central, Forensic, S...  \n",
       "27    [Anton, Yelchin, who, was, best, known, for, p...  \n",
       "28    [Actress, Pranitha, Subhash, met, with, an, ac...  \n",
       "29    [Update, a, m, IST, The, police, said, the, dr...  \n",
       "...                                                 ...  \n",
       "4801  [India, s, rank, in, the, Doing, Business, Rep...  \n",
       "4802  [The, Chinese, government, bought, shares, wor...  \n",
       "4803  [Even, as, the, global, stock, markets, tumble...  \n",
       "4804  [Reports, of, Bollywood, superstar, Amitabh, B...  \n",
       "4805  [Global, rating, agency, Moody, s, Investors, ...  \n",
       "4806  [Earning, upgrades, would, propel, the, S, P, ...  \n",
       "4807  [The, Chinese, stock, markets, have, fallen, s...  \n",
       "4808  [Although, the, domestic, stock, markets, have...  \n",
       "4809  [Things, seem, to, be, getting, worse, for, pr...  \n",
       "4810  [Gold, prices, are, estimated, to, decline, fu...  \n",
       "4811  [Domestic, jewellery, maker, Rajesh, Exports, ...  \n",
       "4812  [Ahead, of, its, official, launch, in, India, ...  \n",
       "4813  [If, you, are, out, shopping, for, a, budget, ...  \n",
       "4814  [The, much, hyped, Asus, Zenfone, is, all, set...  \n",
       "4815  [Even, today, personal, computers, PCs, are, p...  \n",
       "4816  [In, the, Indian, smartphone, market, Motorola...  \n",
       "4817  [IT, security, company, ESET, has, recently, r...  \n",
       "4818  [The, GSM, Association, or, GSMA, association,...  \n",
       "4819  [Samsung, has, launched, their, latest, flagsh...  \n",
       "4820  [The, D, printing, technology, has, undergone,...  \n",
       "4821  [Known, as, the, Mecca, of, smartphones, lover...  \n",
       "4822  [Samsung, has, finally, launched, its, much, a...  \n",
       "4823  [HTC, has, launched, its, latest, flagship, sm...  \n",
       "4824  [Smartphone, leader, Samsung, on, Monday, Marc...  \n",
       "4825  [Apple, s, iPhone, and, iPhone, Plus, have, be...  \n",
       "4826  [Apple, won, its, share, of, fame, when, it, l...  \n",
       "4827  [HTC, launched, One, M, at, MWC, few, days, ba...  \n",
       "4828  [Samsung, s, critically, acclaimed, Galaxy, S,...  \n",
       "4829  [Google, has, finally, released, the, Android,...  \n",
       "4830  [Apple, is, now, the, largest, smartphone, com...  \n",
       "\n",
       "[4831 rows x 2 columns]"
      ]
     },
     "execution_count": 101,
     "metadata": {
      "tags": []
     },
     "output_type": "execute_result"
    }
   ],
   "source": [
    "d={'Articles':articles,'bog':pd.Series(bog)}     \n",
    "df = pd.DataFrame(d)\n",
    "df\n"
   ]
  },
  {
   "cell_type": "code",
   "execution_count": null,
   "metadata": {
    "colab": {},
    "colab_type": "code",
    "id": "Na-G4hCM2xEF",
    "outputId": "90b7f17e-2eb0-4c78-daac-aa29d28ae214"
   },
   "outputs": [
    {
     "name": "stdout",
     "output_type": "stream",
     "text": [
      "35322\n"
     ]
    }
   ],
   "source": [
    "from sklearn.feature_extraction.text import CountVectorizer\n",
    "cv = CountVectorizer()\n",
    "cv.fit_transform(articles)\n",
    "print(len(cv.get_feature_names()))"
   ]
  },
  {
   "cell_type": "code",
   "execution_count": null,
   "metadata": {
    "colab": {},
    "colab_type": "code",
    "id": "XgxEcHNr2xEL"
   },
   "outputs": [],
   "source": [
    "WordSet = set()\n",
    "for line in bog:\n",
    "    WordSet = set(WordSet).union(set(line))"
   ]
  },
  {
   "cell_type": "code",
   "execution_count": null,
   "metadata": {
    "colab": {},
    "colab_type": "code",
    "id": "e-HHRBvU2xER"
   },
   "outputs": [],
   "source": [
    "WordDict1 = dict.fromkeys(WordSet,0) \n",
    "WordDict2 = dict.fromkeys(WordSet,0)"
   ]
  },
  {
   "cell_type": "code",
   "execution_count": null,
   "metadata": {
    "colab": {},
    "colab_type": "code",
    "id": "iMysXrj12xEX"
   },
   "outputs": [],
   "source": [
    "# bog[0]"
   ]
  },
  {
   "cell_type": "code",
   "execution_count": null,
   "metadata": {
    "colab": {},
    "colab_type": "code",
    "id": "hR7XbX8x2xEf"
   },
   "outputs": [],
   "source": [
    "for word in bog[0]:\n",
    "    WordDict1[word]+=1\n",
    "\n",
    "for word in bog[1]:\n",
    "    WordDict2[word]+=1"
   ]
  },
  {
   "cell_type": "code",
   "execution_count": null,
   "metadata": {
    "colab": {},
    "colab_type": "code",
    "id": "86D1NZup2xEp"
   },
   "outputs": [],
   "source": []
  },
  {
   "cell_type": "code",
   "execution_count": null,
   "metadata": {
    "colab": {},
    "colab_type": "code",
    "id": "rahi-cO12xEv"
   },
   "outputs": [],
   "source": [
    "def ComputeTF(WordDict, bow):\n",
    "    tfDict = {}\n",
    "    bowCount = len(bow)\n",
    "    for word, count in WordDict.items():\n",
    "        tfDict[word] = count / float(bowCount)\n",
    "    return tfDict"
   ]
  },
  {
   "cell_type": "code",
   "execution_count": null,
   "metadata": {
    "colab": {},
    "colab_type": "code",
    "id": "CEkTbZJA2xE0"
   },
   "outputs": [],
   "source": [
    "tfBow1 = ComputeTF(WordDict1,bog[0])\n",
    "tfBow2 = ComputeTF(WordDict2,bog[0])"
   ]
  },
  {
   "cell_type": "code",
   "execution_count": null,
   "metadata": {
    "colab": {},
    "colab_type": "code",
    "id": "gky2EoxU2xE7"
   },
   "outputs": [],
   "source": [
    "# tfBow1"
   ]
  },
  {
   "cell_type": "code",
   "execution_count": null,
   "metadata": {
    "colab": {},
    "colab_type": "code",
    "id": "cnh9ViYr2xFB"
   },
   "outputs": [],
   "source": [
    "def ComputeIDF(docList):\n",
    "    import math\n",
    "    idfDict={}\n",
    "    N = len(docList)\n",
    "    \n",
    "    idfDict = dict.fromkeys(docList[0].keys(),0)\n",
    "    for doc in docList:\n",
    "        for word, value in doc.items():\n",
    "            if value > 0:\n",
    "                idfDict[word]+=1\n",
    "    \n",
    "    for word, value in idfDict.items():\n",
    "        if value != 0:\n",
    "            idfDict[word] = math.log(N / float(value))\n",
    "        else:\n",
    "            idfDict[word] = 0\n",
    "    return idfDict\n"
   ]
  },
  {
   "cell_type": "code",
   "execution_count": null,
   "metadata": {
    "colab": {},
    "colab_type": "code",
    "id": "4Z2ertXf2xFF"
   },
   "outputs": [],
   "source": [
    "idfs = ComputeIDF([WordDict1,WordDict2])"
   ]
  },
  {
   "cell_type": "code",
   "execution_count": null,
   "metadata": {
    "colab": {},
    "colab_type": "code",
    "id": "U_-HZoLE2xFL"
   },
   "outputs": [],
   "source": [
    "def ComputeTFIDF(tfBow, idfs):\n",
    "    tfidf = {}\n",
    "    for word, value in tfBow.items():\n",
    "        tfidf[word] = value * idfs[word]\n",
    "        \n",
    "    return tfidf"
   ]
  },
  {
   "cell_type": "code",
   "execution_count": null,
   "metadata": {
    "colab": {},
    "colab_type": "code",
    "id": "hw-xNiDZ2xFT"
   },
   "outputs": [],
   "source": [
    "ifidfBowA = ComputeTFIDF(tfBow1,idfs)\n",
    "ifidfBowB = ComputeTFIDF(tfBow2,idfs)"
   ]
  },
  {
   "cell_type": "code",
   "execution_count": null,
   "metadata": {
    "colab": {},
    "colab_type": "code",
    "id": "iemw2hNd2xFZ"
   },
   "outputs": [],
   "source": []
  },
  {
   "cell_type": "markdown",
   "metadata": {
    "colab_type": "text",
    "id": "FFV7UYCB2xFg"
   },
   "source": [
    "## First"
   ]
  },
  {
   "cell_type": "code",
   "execution_count": null,
   "metadata": {
    "colab": {},
    "colab_type": "code",
    "id": "PtSy3iRX2xFi"
   },
   "outputs": [],
   "source": [
    "from sklearn.feature_extraction.text import CountVectorizer\n",
    "vect = CountVectorizer()"
   ]
  },
  {
   "cell_type": "code",
   "execution_count": null,
   "metadata": {
    "colab": {},
    "colab_type": "code",
    "id": "7I8-MUmU2xFt"
   },
   "outputs": [],
   "source": [
    "final_count = vect.fit_transform(articles.values)"
   ]
  },
  {
   "cell_type": "code",
   "execution_count": null,
   "metadata": {
    "colab": {
     "base_uri": "https://localhost:8080/",
     "height": 34
    },
    "colab_type": "code",
    "id": "9u7IMByf2xF0",
    "outputId": "c5f58ffc-8171-4090-e19f-dab3a7594ffb"
   },
   "outputs": [
    {
     "data": {
      "text/plain": [
       "(4831, 35322)"
      ]
     },
     "execution_count": 20,
     "metadata": {
      "tags": []
     },
     "output_type": "execute_result"
    }
   ],
   "source": [
    "final_count.get_shape()"
   ]
  },
  {
   "cell_type": "code",
   "execution_count": null,
   "metadata": {
    "colab": {
     "base_uri": "https://localhost:8080/",
     "height": 136
    },
    "colab_type": "code",
    "id": "KINt6p0-2xF6",
    "outputId": "63789813-8347-4511-cc55-e485a8dbeaf0"
   },
   "outputs": [
    {
     "data": {
      "text/plain": [
       "array([[0, 0, 0, ..., 0, 0, 0],\n",
       "       [0, 0, 0, ..., 0, 0, 0],\n",
       "       [0, 0, 0, ..., 0, 0, 0],\n",
       "       ...,\n",
       "       [0, 0, 0, ..., 0, 0, 0],\n",
       "       [0, 0, 0, ..., 0, 0, 0],\n",
       "       [0, 0, 0, ..., 0, 0, 0]])"
      ]
     },
     "execution_count": 21,
     "metadata": {
      "tags": []
     },
     "output_type": "execute_result"
    }
   ],
   "source": [
    "final_count.toarray()"
   ]
  },
  {
   "cell_type": "code",
   "execution_count": null,
   "metadata": {
    "colab": {},
    "colab_type": "code",
    "id": "Yzeju3oq2xF_"
   },
   "outputs": [],
   "source": [
    "names = vect.get_feature_names()"
   ]
  },
  {
   "cell_type": "code",
   "execution_count": null,
   "metadata": {
    "colab": {
     "base_uri": "https://localhost:8080/",
     "height": 136
    },
    "colab_type": "code",
    "id": "YggP042A2xGD",
    "outputId": "621ee1c9-f2f3-4d9b-8ba9-27feaa26bed2"
   },
   "outputs": [
    {
     "data": {
      "text/plain": [
       "array([[23.82060295, 20.81160685],\n",
       "       [16.48878668, 29.7767153 ],\n",
       "       [19.25039152, 25.2437416 ],\n",
       "       ...,\n",
       "       [29.63777445, 24.51721288],\n",
       "       [28.40605933, 29.52802276],\n",
       "       [17.79227862, 28.77046138]])"
      ]
     },
     "execution_count": 23,
     "metadata": {
      "tags": []
     },
     "output_type": "execute_result"
    }
   ],
   "source": [
    "from sklearn.cluster import KMeans\n",
    "Kmean = KMeans(n_clusters=2)\n",
    "Kmean.fit_transform(final_count)"
   ]
  },
  {
   "cell_type": "markdown",
   "metadata": {
    "colab_type": "raw",
    "id": "fXNzMg4y2xGH"
   },
   "source": [
    "Kmean.cluster_centers_"
   ]
  },
  {
   "cell_type": "code",
   "execution_count": null,
   "metadata": {
    "colab": {
     "base_uri": "https://localhost:8080/",
     "height": 34
    },
    "colab_type": "code",
    "id": "LMyTjmZ02xGJ",
    "outputId": "cd2490a4-9cfd-4fd9-9b8e-c88ffe7021a1"
   },
   "outputs": [
    {
     "data": {
      "text/plain": [
       "array([1, 0, 0, ..., 1, 0, 0], dtype=int32)"
      ]
     },
     "execution_count": 24,
     "metadata": {
      "tags": []
     },
     "output_type": "execute_result"
    }
   ],
   "source": [
    "Kmean.labels_"
   ]
  },
  {
   "cell_type": "code",
   "execution_count": null,
   "metadata": {
    "colab": {
     "base_uri": "https://localhost:8080/",
     "height": 34
    },
    "colab_type": "code",
    "id": "pQh7i_ji2xGO",
    "outputId": "19a34fbf-0366-45a3-85f0-439ca5bd3e0e"
   },
   "outputs": [
    {
     "data": {
      "text/plain": [
       "array([0], dtype=int32)"
      ]
     },
     "execution_count": 25,
     "metadata": {
      "tags": []
     },
     "output_type": "execute_result"
    }
   ],
   "source": [
    "lines = ['At least 14 people died and 17 others were injured after a bus travelling from Hyderabad to Kakinada plunged into a canal from a bridge on the accident-prone stretch of the Hyderabad-Khammam highway in Telangana early Monday morning \\nThe injured were admitted to the Government General Hospital for treatment']\n",
    "Kmean.predict(vect.transform(lines))\n"
   ]
  },
  {
   "cell_type": "markdown",
   "metadata": {
    "colab_type": "text",
    "id": "Q2eKLx7v2xGU"
   },
   "source": [
    " ### W2V"
   ]
  },
  {
   "cell_type": "code",
   "execution_count": null,
   "metadata": {
    "colab": {},
    "colab_type": "code",
    "id": "O0Q_HkwW2xGV"
   },
   "outputs": [],
   "source": [
    "from gensim.models import Word2Vec"
   ]
  },
  {
   "cell_type": "code",
   "execution_count": null,
   "metadata": {
    "colab": {},
    "colab_type": "code",
    "id": "WoiFhN0J4RFW"
   },
   "outputs": [],
   "source": [
    "import gensim"
   ]
  },
  {
   "cell_type": "code",
   "execution_count": null,
   "metadata": {
    "colab": {},
    "colab_type": "code",
    "id": "-BFcoOLL4heK"
   },
   "outputs": [],
   "source": [
    "i=0\n",
    "list_of_sent = []\n",
    "for sent in articles.values:\n",
    "  fil_sent = []\n",
    "  for w in sent.split():\n",
    "    for cleaned_words in w.split():\n",
    "      if(cleaned_words.isalpha()):\n",
    "        fil_sent.append(cleaned_words.lower())\n",
    "      else:\n",
    "        continue\n",
    "    list_of_sent.append(fil_sent)\n",
    "  "
   ]
  },
  {
   "cell_type": "code",
   "execution_count": null,
   "metadata": {
    "colab": {
     "base_uri": "https://localhost:8080/",
     "height": 88
    },
    "colab_type": "code",
    "id": "B8xsWOqb5Y4P",
    "outputId": "702b3edd-abf5-4766-80bc-2bb1941b3840"
   },
   "outputs": [
    {
     "name": "stdout",
     "output_type": "stream",
     "text": [
      "At least people died and others were injured after a bus travelling from Hyderabad to Kakinada plunged into a canal from a bridge on the accident prone stretch of the Hyderabad Khammam highway in Telangana early Monday morning The injured were admitted to the Government General Hospital for treatment Seven people died on the spot and the others succumbed to injuries while undergoing treatment at the hospital The passengers belonged to the East and West Godavari districts of Andhra Pradesh The bus owned by private operator Yatra Genie commenced its journey from Hyderabad at p m on Sunday Khammam Superintendent of Police Shah Nawaz Khan was quoted by the Hindustan Times as saying The accident happened around a m when the driver slammed the brakes to avoid a collision with another vehicle coming from the opposite direction on a bridge over Nagarjunsagar project left canal at Nayankangudem village in Khammam district the daily reported The bus hit the parapet wall of the bridge and nose dived into the canal The driver of the bus was apparently driving at high speed due to which he lost control of the vehicle following which it fell into the canal under Kusumanchi mandal the Deccan Herald reported Travellers immediately informed the police who rushed to the accident scene and began the rescue operations \n",
      "-------------------------------\n",
      "['at', 'least', 'people', 'died', 'and', 'others', 'were', 'injured', 'after', 'a', 'bus', 'travelling', 'from', 'hyderabad', 'to', 'kakinada', 'plunged', 'into', 'a', 'canal', 'from', 'a', 'bridge', 'on', 'the', 'accident', 'prone', 'stretch', 'of', 'the', 'hyderabad', 'khammam', 'highway', 'in', 'telangana', 'early', 'monday', 'morning', 'the', 'injured', 'were', 'admitted', 'to', 'the', 'government', 'general', 'hospital', 'for', 'treatment', 'seven', 'people', 'died', 'on', 'the', 'spot', 'and', 'the', 'others', 'succumbed', 'to', 'injuries', 'while', 'undergoing', 'treatment', 'at', 'the', 'hospital', 'the', 'passengers', 'belonged', 'to', 'the', 'east', 'and', 'west', 'godavari', 'districts', 'of', 'andhra', 'pradesh', 'the', 'bus', 'owned', 'by', 'private', 'operator', 'yatra', 'genie', 'commenced', 'its', 'journey', 'from', 'hyderabad', 'at', 'p', 'm', 'on', 'sunday', 'khammam', 'superintendent', 'of', 'police', 'shah', 'nawaz', 'khan', 'was', 'quoted', 'by', 'the', 'hindustan', 'times', 'as', 'saying', 'the', 'accident', 'happened', 'around', 'a', 'm', 'when', 'the', 'driver', 'slammed', 'the', 'brakes', 'to', 'avoid', 'a', 'collision', 'with', 'another', 'vehicle', 'coming', 'from', 'the', 'opposite', 'direction', 'on', 'a', 'bridge', 'over', 'nagarjunsagar', 'project', 'left', 'canal', 'at', 'nayankangudem', 'village', 'in', 'khammam', 'district', 'the', 'daily', 'reported', 'the', 'bus', 'hit', 'the', 'parapet', 'wall', 'of', 'the', 'bridge', 'and', 'nose', 'dived', 'into', 'the', 'canal', 'the', 'driver', 'of', 'the', 'bus', 'was', 'apparently', 'driving', 'at', 'high', 'speed', 'due', 'to', 'which', 'he', 'lost', 'control', 'of', 'the', 'vehicle', 'following', 'which', 'it', 'fell', 'into', 'the', 'canal', 'under', 'kusumanchi', 'mandal', 'the', 'deccan', 'herald', 'reported', 'travellers', 'immediately', 'informed', 'the', 'police', 'who', 'rushed', 'to', 'the', 'accident', 'scene', 'and', 'began', 'the', 'rescue', 'operations']\n"
     ]
    }
   ],
   "source": [
    "print(articles[0])\n",
    "print(\"-------------------------------\")\n",
    "print(list_of_sent[0])"
   ]
  },
  {
   "cell_type": "code",
   "execution_count": null,
   "metadata": {
    "colab": {},
    "colab_type": "code",
    "id": "7dr8bEJ3iwVK"
   },
   "outputs": [],
   "source": [
    "w2v_model = gensim.models.Word2Vec(list_of_sent,min_count=5,size=50)"
   ]
  },
  {
   "cell_type": "code",
   "execution_count": null,
   "metadata": {
    "colab": {
     "base_uri": "https://localhost:8080/",
     "height": 34
    },
    "colab_type": "code",
    "id": "mU3u4E0RjOQh",
    "outputId": "b05f1baf-d587-45ec-b082-27e19f0aeb70"
   },
   "outputs": [
    {
     "name": "stdout",
     "output_type": "stream",
     "text": [
      "35346\n"
     ]
    }
   ],
   "source": [
    "words = list(w2v_model.wv.vocab)\n",
    "print(len(words))"
   ]
  },
  {
   "cell_type": "markdown",
   "metadata": {
    "colab_type": "text",
    "id": "cMvLOU90kVlF"
   },
   "source": [
    "## TF _IDF"
   ]
  },
  {
   "cell_type": "code",
   "execution_count": null,
   "metadata": {
    "colab": {},
    "colab_type": "code",
    "id": "TyCj_zfQkNK5"
   },
   "outputs": [],
   "source": [
    "from sklearn.feature_extraction.text import TfidfVectorizer\n",
    "tfidf = TfidfVectorizer(ngram_range=(1,1))\n",
    "finnal = tfidf.fit_transform(articles.values)"
   ]
  },
  {
   "cell_type": "code",
   "execution_count": null,
   "metadata": {
    "colab": {
     "base_uri": "https://localhost:8080/",
     "height": 34
    },
    "colab_type": "code",
    "id": "GoIZQHCHkNCF",
    "outputId": "67392ec4-c08c-4da6-979b-b5a85f624e42"
   },
   "outputs": [
    {
     "data": {
      "text/plain": [
       "(4831, 35322)"
      ]
     },
     "execution_count": 33,
     "metadata": {
      "tags": []
     },
     "output_type": "execute_result"
    }
   ],
   "source": [
    "finnal.get_shape()"
   ]
  },
  {
   "cell_type": "code",
   "execution_count": null,
   "metadata": {
    "colab": {
     "base_uri": "https://localhost:8080/",
     "height": 34
    },
    "colab_type": "code",
    "id": "f8-vC4yVmbQp",
    "outputId": "3242985b-6765-4555-c1e5-fb6515cd3296"
   },
   "outputs": [
    {
     "name": "stdout",
     "output_type": "stream",
     "text": [
      "35322\n"
     ]
    }
   ],
   "source": [
    "features = tfidf.get_feature_names()\n",
    "print(len(features))"
   ]
  },
  {
   "cell_type": "code",
   "execution_count": null,
   "metadata": {
    "colab": {
     "base_uri": "https://localhost:8080/",
     "height": 231
    },
    "colab_type": "code",
    "id": "LMBx1YMDmbLZ",
    "outputId": "84a06055-78f6-491c-ca5e-d4480106bac9"
   },
   "outputs": [
    {
     "ename": "NameError",
     "evalue": "ignored",
     "output_type": "error",
     "traceback": [
      "\u001b[0;31m---------------------------------------------------------------------------\u001b[0m",
      "\u001b[0;31mNameError\u001b[0m                                 Traceback (most recent call last)",
      "\u001b[0;32m<ipython-input-37-ba852ee35c15>\u001b[0m in \u001b[0;36m<module>\u001b[0;34m()\u001b[0m\n\u001b[1;32m      6\u001b[0m     \u001b[0mcnt_words\u001b[0m \u001b[0;34m=\u001b[0m\u001b[0;36m0\u001b[0m\u001b[0;34m;\u001b[0m \u001b[0;31m# num of words with a valid vector in the sentence/review\u001b[0m\u001b[0;34m\u001b[0m\u001b[0;34m\u001b[0m\u001b[0m\n\u001b[1;32m      7\u001b[0m     \u001b[0;32mfor\u001b[0m \u001b[0mword\u001b[0m \u001b[0;32min\u001b[0m \u001b[0msent\u001b[0m\u001b[0;34m:\u001b[0m \u001b[0;31m# for each word in a review/sentence\u001b[0m\u001b[0;34m\u001b[0m\u001b[0;34m\u001b[0m\u001b[0m\n\u001b[0;32m----> 8\u001b[0;31m         \u001b[0;32mif\u001b[0m \u001b[0mword\u001b[0m \u001b[0;32min\u001b[0m \u001b[0mw2v_words\u001b[0m\u001b[0;34m:\u001b[0m\u001b[0;34m\u001b[0m\u001b[0;34m\u001b[0m\u001b[0m\n\u001b[0m\u001b[1;32m      9\u001b[0m             \u001b[0mvec\u001b[0m \u001b[0;34m=\u001b[0m \u001b[0mw2v_model\u001b[0m\u001b[0;34m.\u001b[0m\u001b[0mwv\u001b[0m\u001b[0;34m[\u001b[0m\u001b[0mword\u001b[0m\u001b[0;34m]\u001b[0m\u001b[0;34m\u001b[0m\u001b[0;34m\u001b[0m\u001b[0m\n\u001b[1;32m     10\u001b[0m             \u001b[0msent_vec\u001b[0m \u001b[0;34m+=\u001b[0m \u001b[0mvec\u001b[0m\u001b[0;34m\u001b[0m\u001b[0;34m\u001b[0m\u001b[0m\n",
      "\u001b[0;31mNameError\u001b[0m: name 'w2v_words' is not defined"
     ]
    }
   ],
   "source": [
    "# average Word2Vec\n",
    "import numpy as np\n",
    "# compute average word2vec for each review.\n",
    "sent_vectors_test = []; # the avg-w2v for each sentence/review is stored in this list\n",
    "for sent in list_of_sent: # for each review/sentence\n",
    "    sent_vec = np.zeros(50) # as word vectors are of zero length 50, you might need to change this to 300 if you use google's w2v\n",
    "    cnt_words =0; # num of words with a valid vector in the sentence/review\n",
    "    for word in sent: # for each word in a review/sentence\n",
    "        if word in w2v_words:\n",
    "            vec = w2v_model.wv[word]\n",
    "            sent_vec += vec\n",
    "            cnt_words += 1\n",
    "    if cnt_words != 0:\n",
    "        sent_vec /= cnt_words\n",
    "    sent_vectors_test.append(sent_vec)\n",
    "sent_vectors_test = np.array(sent_vectors_test)\n",
    "print(sent_vectors_test.shape)\n",
    "print(sent_vectors_test[0])"
   ]
  },
  {
   "cell_type": "markdown",
   "metadata": {
    "colab_type": "text",
    "id": "frATU5SQf_YV"
   },
   "source": []
  },
  {
   "cell_type": "markdown",
   "metadata": {
    "colab_type": "text",
    "id": "sByuFBU5gBBt"
   },
   "source": [
    "### TF-IDf weighted vector\n",
    " "
   ]
  },
  {
   "cell_type": "code",
   "execution_count": null,
   "metadata": {
    "colab": {
     "base_uri": "https://localhost:8080/",
     "height": 71
    },
    "colab_type": "code",
    "id": "tnm80olNkMQ0",
    "outputId": "e851c2d0-90db-434b-a9af-f0af41cf06bb"
   },
   "outputs": [
    {
     "name": "stderr",
     "output_type": "stream",
     "text": [
      "/usr/local/lib/python3.6/dist-packages/ipykernel_launcher.py:17: RuntimeWarning: divide by zero encountered in true_divide\n",
      "/usr/local/lib/python3.6/dist-packages/ipykernel_launcher.py:17: RuntimeWarning: invalid value encountered in true_divide\n"
     ]
    }
   ],
   "source": [
    "features = tfidf.get_feature_names()\n",
    "\n",
    "tfidf_sent_vectors=[]\n",
    "row = 0\n",
    "for sent in list_of_sent:\n",
    "  sent_vec =  np.zeros(50)\n",
    "  weighted_sum = 0\n",
    "  for word in sent:\n",
    "    try:\n",
    "      vec = w2v_model.wv[word]\n",
    "      # obtain tfidf of that word\n",
    "      tfidf = finnal[row,features.index(word)]\n",
    "      sent_vec =+ (vec * tfidf)\n",
    "      weighted_sum =+ tf_idf\n",
    "    except:\n",
    "      pass\n",
    "    sent_vec /= weighted_sum\n",
    "    tfidf_sent_vectors.append(sent_vec)\n",
    "    row += 1\n"
   ]
  },
  {
   "cell_type": "markdown",
   "metadata": {
    "colab_type": "text",
    "id": "y-LGQ06Of1vr"
   },
   "source": [
    "## KMEANS\n"
   ]
  },
  {
   "cell_type": "code",
   "execution_count": null,
   "metadata": {
    "colab": {},
    "colab_type": "code",
    "id": "Hs36TVdsfpi-"
   },
   "outputs": [],
   "source": [
    "Kmean = KMeans(n_clusters=2)\n",
    "Kmean.fit_transform(tfidf_sent_vectors)"
   ]
  },
  {
   "cell_type": "code",
   "execution_count": null,
   "metadata": {
    "colab": {},
    "colab_type": "code",
    "id": "LjU_zbuVfpfz"
   },
   "outputs": [],
   "source": [
    "Kmean.labels_"
   ]
  },
  {
   "cell_type": "code",
   "execution_count": null,
   "metadata": {
    "colab": {},
    "colab_type": "code",
    "id": "djjJdpTmfoeO"
   },
   "outputs": [],
   "source": []
  }
 ],
 "metadata": {
  "accelerator": "GPU",
  "colab": {
   "collapsed_sections": [
    "JtwSY7iW2xDr"
   ],
   "name": "newsArticle.ipynb",
   "provenance": [],
   "toc_visible": true
  },
  "kernelspec": {
   "display_name": "Python 3",
   "language": "python",
   "name": "python3"
  },
  "language_info": {
   "codemirror_mode": {
    "name": "ipython",
    "version": 3
   },
   "file_extension": ".py",
   "mimetype": "text/x-python",
   "name": "python",
   "nbconvert_exporter": "python",
   "pygments_lexer": "ipython3",
   "version": "3.7.3"
  }
 },
 "nbformat": 4,
 "nbformat_minor": 4
}
